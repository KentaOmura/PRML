{
 "cells": [
  {
   "cell_type": "markdown",
   "metadata": {},
   "source": [
    "### 予測分布を最尤推定とベイズ推定による実装を行う。\n",
    "\n",
    "**■前提**\n",
    "データの生成は$sin(x)$からガウス分布に従って生成されているとする。\n",
    "\n",
    "データの背後にある生成モデルを多項式を使って、モデル化したとしよう。\n",
    "この時"
   ]
  },
  {
   "cell_type": "code",
   "execution_count": 1,
   "metadata": {},
   "outputs": [],
   "source": [
    "import numpy as np\n",
    "import matplotlib.pyplot as plt\n",
    "import sympy as sp\n",
    "\n",
    "BAYES = 1\n",
    "MLE = 0\n",
    "\n",
    "class Polynomial:\n",
    "    \"\"\"\n",
    "    本クラスは簡単な多項式を生成するクラス。\n",
    "    多項式としては、1+x^1+x^2・・・x^(D-1) の多項式を提供します。（Dは設定した次元数）\n",
    "    使用方法\n",
    "    クラス生成時に次元数を引数に与えるだけで、関数取得時に設定した次元数の多項式を生成します。\n",
    "    取得する時のメソッドはgetFunction()です。\n",
    "    引数として、ベクトルもしくは、1つのパラメータを入力する必要があります。\n",
    "    \"\"\"\n",
    "    def __init__(self, diag):\n",
    "        self.diag = diag\n",
    "    def getFunction(self, x):\n",
    "        func = np.array([x**i for i in range(self.diag)])\n",
    "        # 縦方向が入力値に対しての多項式の係数となる。\n",
    "        # クラス説明では、横ベクトルとなっているので、横ベクトルにして提供する。\n",
    "        return func.T\n",
    "\n",
    "class PredictedDist:\n",
    "    \"\"\"\n",
    "    本クラスは予測分布を提供するクラス。\n",
    "    p(t|x,vec(x),vec(t)) = ∫p(t|x, w)p(w|vec(x),vec(t))dwを提供します。\n",
    "    （vecはベクトルを意味します。）\n",
    "    使用方法\n",
    "    事前分布としては、N(w|0,α^-1I)のガウス分布に従うと仮定しています。\n",
    "    また、尤度関数p(t|x,w)はN(t|y(x,w),β^-1)に従うと仮定しています。(y(x,w)はPolynomialで取得した多項式を想定しています。)\n",
    "    クラス生成時のパラメータにαとβを設定してください。defaultはβが11.1 αは5x10^-3に設定しています。\n",
    "    予測分布取得時に、xの多項式と目的パラメータtを与える必要があります。\n",
    "    \"\"\"\n",
    "    def __init__(self, alpha=5*10**(-3), beta=11.1, diag):\n",
    "        self.alpha = alpha\n",
    "        self.beta = beta\n",
    "        self.diag = diag\n",
    "    \n",
    "    def getDistribution(self,X,t):\n",
    "        S  = self.alpha*np.identity(self.diag) + self.beta*np.sum(X[i] @ X[i].T for i in range(self.diag))\n",
    "        m  = self.beta * X.T * np.linalg.inv(S)*np.sum(X[i]*t[i] for i in range(self.diag))\n",
    "        si = np.power(self.beta,-1) + X.T @ np.linalg.inv(S) @ X\n",
    "\n",
    "\n",
    "\n",
    "\n",
    "def createData(f,low, high, size):\n",
    "    x = np.random.uniform(low=low, high=high, size=size)\n",
    "    t = f(x) + np.random.normal(loc=0, scale=1/11.1, size=size)\n",
    "    return t, x\n",
    "\n",
    "def main():\n",
    "    pass\n",
    "\n",
    "if __name__ == \"__main__\":\n",
    "    main()"
   ]
  }
 ],
 "metadata": {
  "interpreter": {
   "hash": "4ab94a47810cca1c455de50c2d6c2a92526c30cfd8eee14c27cfd98c02b7c639"
  },
  "kernelspec": {
   "display_name": "Python 3",
   "language": "python",
   "name": "python3"
  },
  "language_info": {
   "codemirror_mode": {
    "name": "ipython",
    "version": 3
   },
   "file_extension": ".py",
   "mimetype": "text/x-python",
   "name": "python",
   "nbconvert_exporter": "python",
   "pygments_lexer": "ipython3",
   "version": "3.8.8"
  }
 },
 "nbformat": 4,
 "nbformat_minor": 2
}
