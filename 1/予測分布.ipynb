{
 "cells": [
  {
   "cell_type": "markdown",
   "metadata": {},
   "source": [
    "### 予測分布を最尤推定とベイズ推定による実装を行う。\n",
    "\n",
    "**■検証材料**\n",
    "\n",
    "データの生成は$sin(x)$からガウス分布に従って生成されているとする。\n",
    "生成された、データ$x$とそれに対応する$t$を使用して、多項式を使用して当てはめたとする。\n",
    "tは平均が多項式の値に等しく、精度が$\\beta$のガウス分布に従うとする。\n",
    "この分布を使用して、ベイズ推定、最尤推定の両者での訓練データを入力した後の予測分布についてみていく。\n",
    "\n",
    "まず、必要なモジュールと定義を行う。"
   ]
  },
  {
   "cell_type": "code",
   "execution_count": 16,
   "metadata": {},
   "outputs": [],
   "source": [
    "import numpy as np\n",
    "import matplotlib.pyplot as plt\n",
    "import sympy as sp\n",
    "\n",
    "BAYES = 1 #ベイズ推定\n",
    "MLE = 0   #最尤推定"
   ]
  },
  {
   "cell_type": "markdown",
   "metadata": {},
   "source": [
    "次に多項式モデルを生成するクラスを作成する。\n",
    "多項式としては、以下の簡単な多項式とする。\n",
    "$y(x) = x^1+x^2+・・・x^M$"
   ]
  },
  {
   "cell_type": "code",
   "execution_count": 17,
   "metadata": {},
   "outputs": [],
   "source": [
    "class Polynomial:\n",
    "    \"\"\"\n",
    "    本クラスは簡単な多項式を生成するクラス。\n",
    "    多項式としては、1+x^1+x^2・・・x^(D-1) の多項式を提供します。（Dは設定した次元数）\n",
    "    使用方法\n",
    "    クラス生成時に次元数を引数に与えるだけで、関数取得時に設定した次元数の多項式を生成します。\n",
    "    取得する時のメソッドはgetFunction()です。\n",
    "    引数として、ベクトルもしくは、1つのパラメータを入力する必要があります。\n",
    "    \"\"\"\n",
    "    def __init__(self, diag):\n",
    "        self.diag = diag\n",
    "    def getFunction(self, x):\n",
    "        func = np.array([x**i for i in range(self.diag)])\n",
    "        return func.T"
   ]
  },
  {
   "cell_type": "markdown",
   "metadata": {},
   "source": [
    "次に予測分布を算出するクラスを作成する。\n",
    "予測分布を算出するクラスでは、最尤推定での予測分布モデルを算出するか、ベイズ推定で予測分布モデルを算出するかを選ぶ事ができる。\n",
    "\n",
    "ここで、ベイズ推定を使用する際に、事後分布を使用して予測分布を算出するが、この事後分布の算出過程を確認する。\n",
    "前提としては、事前分布として$p(\\boldsymbol{w}|\\alpha) = N(\\boldsymbol{w}|\\boldsymbol{0},\\alpha^{-1}I)$を用いる。\n",
    "また、尤度関数は$p(\\boldsymbol{t}|\\boldsymbol{x}, \\boldsymbol{w}, \\beta) = \\prod_{n}^{N} N(t_n|y(\\boldsymbol{w},x_n), \\beta^{-1})$であるので、\n",
    "事後分布は以下の式で算出できる。\n",
    "\n",
    "$p(\\boldsymbol{w}|\\boldsymbol{x},\\boldsymbol{t},\\alpha, \\beta) = p(\\boldsymbol{t}|\\boldsymbol{x}, \\boldsymbol{w}, \\beta)p(\\boldsymbol{w}|\\alpha)$\n",
    "\n",
    "事前分布と尤度関数がガウス分布なので、事後分布もガウス分布となる。\n",
    "ここで、一般の多変量ガウス分布の指数部分に着目する。\n",
    "\n",
    "$-\\frac{\\boldsymbol{1}}{2}(\\boldsymbol{\\mu}-\\boldsymbol{w})^T\\boldsymbol{\\Sigma}^{-1}(\\boldsymbol{\\mu}-\\boldsymbol{w})$\n",
    "\n",
    "式を展開し、整理すると以下の式となる。\n",
    "\n",
    "$-\\frac{\\boldsymbol{1}}{2}(\\boldsymbol{\\mu}^T\\boldsymbol{\\Sigma}^{-1}\\boldsymbol{\\mu} - 2\\boldsymbol{w}^T\\boldsymbol{\\Sigma}^{-1}\\boldsymbol{\\mu} + \\boldsymbol{w}^T\\boldsymbol{\\Sigma}^{-1}\\boldsymbol{w})$\n",
    "\n",
    "ガウス分布は制御パラメータである、平均と精度が算出できれば、導出できるので、この式で係数比較を用いて平均と精度を算出していく。\n",
    "\n",
    "本題。\n",
    "事前分布と尤度関数の積を取った後の指数部分に着目すると以下の式となる。\n",
    "\n",
    "$-\\frac{\\alpha}{2}\\boldsymbol{w}^T\\boldsymbol{w} - \\frac{\\beta}{2}(\\boldsymbol{t} - \\boldsymbol{\\Phi}\\boldsymbol{w})^T(\\boldsymbol{t} - \\boldsymbol{\\Phi}\\boldsymbol{w})$\n",
    "\n",
    "整理すると、以下の式となる。\n",
    "\n",
    "$-\\frac{1}{2}(\\boldsymbol{w}^T(\\alpha I+\\beta\\boldsymbol{\\Phi}^T\\boldsymbol{\\Phi})\\boldsymbol{w}- 2\\beta\\boldsymbol{w}^T\\boldsymbol{\\Phi}^T\\boldsymbol{t} + \\beta\\boldsymbol{t}^T\\boldsymbol{t})$\n",
    "\n",
    "よって、係数比較を行うと、精度と平均は以下の式となる。\n",
    "$\\boldsymbol{\\Sigma}^{-1} = \\alpha I+\\beta\\boldsymbol{\\Phi}^T\\boldsymbol{\\Phi}$\n",
    "$\\boldsymbol{\\mu} = \\beta\\boldsymbol{\\Sigma}\\boldsymbol{\\Phi}^T\\boldsymbol{t}$\n",
    "\n",
    "上記事後分布を使用して、予測分布をベイズ推定した式は以下となる。\n",
    "\n",
    "$p(t|x,\\boldsymbol{t},\\boldsymbol{x}) = \\int p(t|x,\\boldsymbol{w})p(\\boldsymbol{w}|\\boldsymbol{t},\\boldsymbol{x})d\\boldsymbol{w}$\n",
    "\n",
    "予測分布もガウス分布となり、平均と分散は以下の式となる。\n",
    "$m(x) = \\beta \\boldsymbol{\\phi}(x)^T\\boldsymbol{\\Sigma}\\sum_{n=1}^{N}\\boldsymbol{\\phi}(x_n)t_n$\n",
    "$s^2(x) = \\beta^{-1} + \\boldsymbol{\\phi}(x)^T\\boldsymbol{\\Sigma}\\boldsymbol{\\phi}(x)$\n",
    "\n",
    "これらと最尤推定による平均と分散の算出結果を用いて、予測分布の実装を以下に行う。"
   ]
  },
  {
   "cell_type": "code",
   "execution_count": 84,
   "metadata": {},
   "outputs": [],
   "source": [
    "class PredictedDist:\n",
    "    \"\"\"\n",
    "    本クラスは予測分布を提供するクラス。\n",
    "    tの精度パラメータβと、ベイズ推定で用いる事前分布の精度パラメータαを入力する。\n",
    "    その後、訓練データを本クラスのメソッドfit()で提供する事で、学習を行う。\n",
    "    predict()メソッドを使用する事で、学習結果と入力されたxを用いて、目的変数tの予測分布のパラメータを提供する。\n",
    "    αとβはデフォルト値として、α=5*10**(-3) β=11.1とする。\n",
    "    \"\"\"\n",
    "    def __init__(self, alpha=5*10**(-3), beta=11.1, mode = MLE):\n",
    "        self.alpha = alpha\n",
    "        self.beta = beta\n",
    "        self.mode = mode\n",
    "\n",
    "    # 訓練データから学習を行う。\n",
    "    def fit(self, X, t):\n",
    "        if self.mode == MLE:\n",
    "            self.w    = np.linalg.inv(X.T@X) @ X.T @ t\n",
    "            self.sigma = 1/X.shape[0] * np.sum(np.power((X@self.w - t),2), axis=0)\n",
    "        else:\n",
    "            self.accuracy = self.alpha * np.identity(X.shape[1]) + self.beta*X.T @ X\n",
    "            self.mu = self.beta * np.linalg.inv(self.accuracy) @ X.T @ t\n",
    "    \n",
    "    # 予測分布を算出する\n",
    "    def predict(self, X):\n",
    "        if self.mode == MLE:\n",
    "            y = X@self.w\n",
    "            y_std = np.sqrt(self.sigma)\n",
    "        else:\n",
    "            y = X.dot(self.mu.T)\n",
    "            y_var = 1 / self.beta + np.sum(X.dot(np.linalg.inv(self.accuracy)) * X, axis=1)\n",
    "            y_std = np.sqrt(y_var)\n",
    "        return y, y_std"
   ]
  },
  {
   "cell_type": "markdown",
   "metadata": {},
   "source": [
    "最後に、データの生成関数と、main関数を実装して、\n",
    "上記クラスを用いて、予測分布を図示する。"
   ]
  },
  {
   "cell_type": "code",
   "execution_count": 86,
   "metadata": {},
   "outputs": [
    {
     "name": "stdout",
     "output_type": "stream",
     "text": [
      "(5, 5)\n"
     ]
    },
    {
     "data": {
      "image/png": "[encoded data removed]",
      "text/plain": [
       "<Figure size 432x288 with 2 Axes>"
      ]
     },
     "metadata": {
      "needs_background": "light"
     },
     "output_type": "display_data"
    }
   ],
   "source": [
    "def createData(f,low, high, size):\n",
    "    x = np.random.uniform(low=low, high=high, size=size)\n",
    "    t = f(x) + np.random.normal(loc=0, scale=1/11.1, size=size)\n",
    "    return x,t\n",
    "\n",
    "def main():\n",
    "\n",
    "    def func(x):\n",
    "        return np.sin(2*np.pi*x)\n",
    "\n",
    "    x_train, t_train = createData(func, 0 , 1, 3)\n",
    "\n",
    "    # 5次元の多項式を使用する\n",
    "    poly = Polynomial(5)\n",
    "    X = poly.getFunction(x_train)\n",
    "\n",
    "    # 訓練データを用いて、学習を行う\n",
    "    model = PredictedDist(mode=BAYES)\n",
    "    model1 = PredictedDist(mode=MLE)\n",
    "    model.fit(X,t_train)\n",
    "    model1.fit(X, t_train)\n",
    "\n",
    "    x = np.linspace(0,1,100)\n",
    "    y, y_std = model.predict(poly.getFunction(x))\n",
    "    y1, y1_std = model1.predict(poly.getFunction(x))\n",
    "    \n",
    "    fig = plt.figure()\n",
    "    ax1 = fig.add_subplot(1,2,1)\n",
    "    ax2 = fig.add_subplot(1,2,2)\n",
    "    ax1.plot(x, func(x), color='blue', label=\"$sin(2\\pi x)$\")\n",
    "    ax1.plot(x, y, color='red', label=\"predict_mean\")\n",
    "    ax1.fill_between(x, y-y_std, y+y_std, color='pink', alpha=0.5, label=\"predict_std\")\n",
    "\n",
    "\n",
    "    ax1.legend()\n",
    "\n",
    "    ax2.plot(x, func(x), color='blue', label=\"$sin(2\\pi x)$\")\n",
    "    ax2.plot(x, y1, color='red', label=\"predict_mean\")\n",
    "    ax2.fill_between(x, y1-y1_std, y1+y1_std, color='pink', alpha=0.5, label=\"predict_std\")\n",
    "    ax2.set_xlim(0,1)\n",
    "    ax2.set_ylim(-2.0,2.0)\n",
    "    ax2.legend()\n",
    "\n",
    "    plt.show()\n",
    "\n",
    "\n",
    "if __name__ == \"__main__\":\n",
    "    main()"
   ]
  }
 ],
 "metadata": {
  "interpreter": {
   "hash": "4ab94a47810cca1c455de50c2d6c2a92526c30cfd8eee14c27cfd98c02b7c639"
  },
  "kernelspec": {
   "display_name": "Python 3.9.7 64-bit",
   "name": "python3"
  },
  "language_info": {
   "codemirror_mode": {
    "name": "ipython",
    "version": 3
   },
   "file_extension": ".py",
   "mimetype": "text/x-python",
   "name": "python",
   "nbconvert_exporter": "python",
   "pygments_lexer": "ipython3",
   "version": "3.9.7"
  },
  "orig_nbformat": 4
 },
 "nbformat": 4,
 "nbformat_minor": 2
}
